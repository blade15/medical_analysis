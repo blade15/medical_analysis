{
 "cells": [
  {
   "cell_type": "code",
   "execution_count": null,
   "id": "60998d02",
   "metadata": {},
   "outputs": [],
   "source": [
    "\n",
    "import pandas as pd\n",
    "import seaborn as sns\n",
    "import matplotlib.pyplot as plt\n",
    "import numpy as np\n"
   ]
  },
  {
   "cell_type": "code",
   "execution_count": null,
   "id": "3295350b",
   "metadata": {},
   "outputs": [],
   "source": [
    "\n",
    "# 1. Load the data\n",
    "df = pd.read_csv(\"medical_examination.csv\")\n",
    "df.head()\n"
   ]
  },
  {
   "cell_type": "code",
   "execution_count": null,
   "id": "c9479cd3",
   "metadata": {},
   "outputs": [],
   "source": [
    "\n",
    "# 2. Add an 'overweight' column based on BMI > 25\n",
    "df['overweight'] = (df['weight'] / ((df['height'] / 100) ** 2) > 25).astype(int)\n"
   ]
  },
  {
   "cell_type": "code",
   "execution_count": null,
   "id": "7a308f08",
   "metadata": {},
   "outputs": [],
   "source": [
    "\n",
    "# 3. Normalize 'cholesterol' and 'gluc' values\n",
    "df['cholesterol'] = (df['cholesterol'] > 1).astype(int)\n",
    "df['gluc'] = (df['gluc'] > 1).astype(int)\n"
   ]
  },
  {
   "cell_type": "code",
   "execution_count": null,
   "id": "f8670982",
   "metadata": {},
   "outputs": [],
   "source": [
    "\n",
    "# 4–8. Create categorical plot\n",
    "def draw_cat_plot():\n",
    "    # 5. Melt the data to long format for seaborn\n",
    "    df_cat = pd.melt(df, id_vars=['cardio'],\n",
    "                     value_vars=['cholesterol', 'gluc', 'smoke', 'alco', 'active', 'overweight'])\n",
    "\n",
    "    # 6. Group and count values\n",
    "    df_cat = df_cat.groupby(['cardio', 'variable', 'value']).size().reset_index(name='total')\n",
    "\n",
    "    # 7–8. Draw bar plot with seaborn and return figure\n",
    "    fig = sns.catplot(x=\"variable\", y=\"total\", hue=\"value\", col=\"cardio\",\n",
    "                      data=df_cat, kind=\"bar\").fig\n",
    "    fig.suptitle(\"Categorical Plot of Health Indicators\", y=1.05)\n",
    "    return fig\n"
   ]
  },
  {
   "cell_type": "code",
   "execution_count": null,
   "id": "db0862b6",
   "metadata": {},
   "outputs": [],
   "source": [
    "\n",
    "cat_plot_fig = draw_cat_plot()\n",
    "plt.show()\n"
   ]
  },
  {
   "cell_type": "code",
   "execution_count": null,
   "id": "71b1a270",
   "metadata": {},
   "outputs": [],
   "source": [
    "\n",
    "# 9–13. Create heatmap\n",
    "def draw_heat_map():\n",
    "    # 9. Clean data by filtering based on logical constraints\n",
    "    df_heat = df[\n",
    "        (df['ap_lo'] <= df['ap_hi']) &\n",
    "        (df['height'] >= df['height'].quantile(0.025)) &\n",
    "        (df['height'] <= df['height'].quantile(0.975)) &\n",
    "        (df['weight'] >= df['weight'].quantile(0.025)) &\n",
    "        (df['weight'] <= df['weight'].quantile(0.975))\n",
    "    ]\n",
    "\n",
    "    # 10. Calculate correlation matrix\n",
    "    corr = df_heat.corr()\n",
    "\n",
    "    # 11. Generate a mask for the upper triangle\n",
    "    mask = np.triu(np.ones_like(corr, dtype=bool))\n",
    "\n",
    "    # 12. Set up matplotlib figure and draw heatmap\n",
    "    fig, ax = plt.subplots(figsize=(12, 10))\n",
    "    sns.heatmap(corr, mask=mask, annot=True, fmt=\".1f\", center=0, square=True, cbar_kws={\"shrink\": 0.5})\n",
    "    plt.title(\"Correlation Heatmap of Medical Features\")\n",
    "    return fig\n"
   ]
  },
  {
   "cell_type": "code",
   "execution_count": null,
   "id": "cc34d12c",
   "metadata": {},
   "outputs": [],
   "source": [
    "\n",
    "heat_map_fig = draw_heat_map()\n",
    "plt.show()\n"
   ]
  }
 ],
 "metadata": {},
 "nbformat": 4,
 "nbformat_minor": 5
}
